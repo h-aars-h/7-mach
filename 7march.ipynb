{
 "cells": [
  {
   "cell_type": "code",
   "execution_count": 2,
   "id": "bcf02fcb-70d7-405d-aa02-12e7f4dada33",
   "metadata": {},
   "outputs": [],
   "source": [
    "# Q1. What are the three measures of central tendency?\n",
    "# Ans 1= There are three types of measures of centra tendecy is mean , median and mode ."
   ]
  },
  {
   "cell_type": "code",
   "execution_count": 3,
   "id": "b7964d11-ebea-4179-8b82-287d5b5a5332",
   "metadata": {},
   "outputs": [],
   "source": [
    "# Q2. What is the difference between the mean, median, and mode? How are they used to measure the\n",
    "# central tendency of a dataset?\n",
    "#Ans 2 The difference between mean, median and mode are: Mean is the average value of the given observations.\n",
    "# Median is the middle value of the given observations. Mode is the most repeated value in the given observation."
   ]
  },
  {
   "cell_type": "code",
   "execution_count": 4,
   "id": "41d01d00-5083-41e0-9324-67df14a3ac6b",
   "metadata": {},
   "outputs": [
    {
     "name": "stdout",
     "output_type": "stream",
     "text": [
      "the mean is the height of is 177.01875,the median of the height is177.0 and mode isModeResult(mode=array([177.]), count=array([3])) \n"
     ]
    },
    {
     "name": "stderr",
     "output_type": "stream",
     "text": [
      "/tmp/ipykernel_78/1498468407.py:6: FutureWarning: Unlike other reduction functions (e.g. `skew`, `kurtosis`), the default behavior of `mode` typically preserves the axis it acts along. In SciPy 1.11.0, this behavior will change: the default value of `keepdims` will become False, the `axis` over which the statistic is taken will be eliminated, and the value None will no longer be accepted. Set `keepdims` to True or False to avoid this warning.\n",
      "  print(f'the mean is the height of is {np.mean(height)},the median of the height is{np.median(height)} and mode is{stats.mode(height)} ')\n"
     ]
    }
   ],
   "source": [
    "# Q3. Measure the three measures of central tendency for the given height data:\n",
    "height=[178,177,176,177,178.2,178,175,179,180,175,178.9,176.2,177,172.5,178,176.5]\n",
    "import numpy as np \n",
    "from scipy import stats\n",
    "\n",
    "print(f'the mean is the height of is {np.mean(height)},the median of the height is{np.median(height)} and mode is{stats.mode(height)} ')"
   ]
  },
  {
   "cell_type": "code",
   "execution_count": 5,
   "id": "bb1f3a10-5aba-4612-82d6-afa0560c2e53",
   "metadata": {},
   "outputs": [
    {
     "data": {
      "text/plain": [
       "1.7885814036548633"
      ]
     },
     "execution_count": 5,
     "metadata": {},
     "output_type": "execute_result"
    }
   ],
   "source": [
    "# Q4. Find the standard deviation for the given data:\n",
    "# Ans 4=\n",
    "df=[178,177,176,177,178.2,178,175,179,180,175,178.9,176.2,177,172.5,178,176.5]\n",
    "np.std(df)"
   ]
  },
  {
   "cell_type": "code",
   "execution_count": null,
   "id": "b2216fe0-06cb-47c1-8d41-36666e5e39e4",
   "metadata": {},
   "outputs": [],
   "source": [
    "# Q5. How are measures of dispersion such as range, variance, and standard deviation used to describe\n",
    "# the spread of a dataset? Provide an example.\n",
    "# Ans5 =Measures of dispersion are used to describe the spread or variability of a dataset. There are several measures of dispersion,\n",
    "# including range, variance, and standard deviation.\n",
    "# Range is the difference between the maximum and minimum values in a dataset. It provides a simple measure of the spread of a dataset, \n",
    "# but it can be affected by outliers.\n",
    "# Variance is a measure of how spread out the data is from the mean. It is calculated by taking the sum of the squared deviations from \n",
    "# the mean and dividing by the number of data points. Variance can be influenced by outliers, but it is less affected by them than the range.\n",
    "# Standard deviation is the square root of the variance and is another commonly used measure of dispersion. It is used to describe\n",
    "# how much the data is dispersed from the mean and provides a measure of how much the data deviates from the mean. The standard deviation\n",
    "# is useful because it is expressed in the same units as the data, unlike variance, which is expressed in squared units.\n",
    "# For example, let's say we have a dataset of exam scores for a class of 20 students: 75, 80, 82, 85, 87, 88, 89, 90, 91, 92, 93, 94, 95,\n",
    "# 96, 97, 98, 99, 99, 99, 100.\n",
    "# The range is 100 - 75 = 25. This means the scores range from 75 to 100.\n",
    "# To calculate the variance, we first find the mean of the dataset: (75 + 80 + 82 + ... + 99 + 99 + 99 + 100) / 20 = 90.1. \n",
    "# Then we calculate the squared deviations from the mean for each data point: (75 - 90.1)^2, (80 - 90.1)^2, and so on.\n",
    "# We add up all the squared deviations and divide by the number of data points: (75 - 90.1)^2 + (80 - 90.1)^2 + ... + (100 - 90.1)^2 / 20 = 89.19.\n",
    "# This is the variance.\n",
    "# To calculate the standard deviation, we take the square root of the variance: sqrt(89.19) = 9.44.\n",
    "# This means the exam scores are dispersed around the mean by approximately 9.44 points."
   ]
  },
  {
   "cell_type": "code",
   "execution_count": 11,
   "id": "058fa27e-81b8-4f87-b6f5-a7451b361c30",
   "metadata": {},
   "outputs": [],
   "source": [
    "# Q6. What is a Venn diagram?\n",
    "# A Venn diagram is a graphical representation here we use in the statistics\n",
    "# here we using the ven diagram in this points\n",
    "# i Intersection\n",
    "# ii Union\n",
    "# iii Difference"
   ]
  },
  {
   "cell_type": "code",
   "execution_count": null,
   "id": "da0ba515-af19-4a25-8bde-ac7ae6b9735d",
   "metadata": {},
   "outputs": [],
   "source": [
    "# Q7. For the two given sets A = (2,3,4,5,6,7) & B = (0,2,6,8,10). Find:\n",
    "# (i) A∩B ={2,6} this is the intersection of the two set here we show the data present in set A and set B.\n",
    "# (ii) A ⋃ B={0,2,3,4,5,6,7,8,10} This is the  show the whole data present in\n",
    "# i = this is the intersection point\n",
    "# ii = this  is the  union point"
   ]
  },
  {
   "cell_type": "code",
   "execution_count": null,
   "id": "e865acb1-7565-429c-b934-d7d5459efa82",
   "metadata": {},
   "outputs": [],
   "source": [
    "# Q8. What do you understand about skewness in data?\n",
    "# Ans 8=Skewness is a measurement of the distortion of symmetrical distribution or asymmetry in a data set."
   ]
  },
  {
   "cell_type": "code",
   "execution_count": 1,
   "id": "b8918b5a-1882-4f07-ae8a-f76acf615cf1",
   "metadata": {},
   "outputs": [],
   "source": [
    "# Q9. If a data is right skewed then what will be the position of median with respect to mean?\n",
    "# Ans 9 =The mean is greater than the median.\n",
    "#  mean>median>mode "
   ]
  },
  {
   "cell_type": "code",
   "execution_count": null,
   "id": "9aad4e9e-ea1c-4bef-adb7-9981c5c27c4c",
   "metadata": {},
   "outputs": [],
   "source": [
    "# Q10. Explain the difference between covariance and correlation. How are these measures used in\n",
    "# statistical analysis?\n",
    "# Ans 10 =Covariance is an indicator of the extent to which 2 random variables are dependent on each other. \n",
    "# A higher number denotes higher dependency. Correlation is a statistical measure that indicates how strongly two variables are related. \n",
    "# The value of covariance lies in the range of -∞ and +∞."
   ]
  },
  {
   "cell_type": "code",
   "execution_count": null,
   "id": "b3f85ed3-68f7-47af-8b6e-c022f9c34e9d",
   "metadata": {},
   "outputs": [],
   "source": [
    "# Q11. What is the formula for calculating the sample mean? Provide an example calculation for a\n",
    "# dataset.\n",
    "# Ans 11= The general formula for calculating the sample mean is given by \n",
    "# x̄ = ( Σ xi ) / n. Here, x̄ represents the sample mean,\n",
    "# xi refers all X sample values and n stands for the number of sample terms in the data set.\n",
    "# Here is an example calculation for a dataset:\n",
    "# Suppose we have the following dataset of test scores for a group of 5 students: 80, 85, 90, 75, 95.\n",
    "# To calculate the sample mean of this dataset, we first add up all the values:\n",
    "# 80 + 85 + 90 + 75 + 95 = 425\n",
    "# Then, we divide the sum by the number of values in the sample:\n",
    "# sample mean = 425 / 5 = 85\n",
    "# Therefore, the sample mean for this dataset is 85."
   ]
  },
  {
   "cell_type": "code",
   "execution_count": null,
   "id": "4881756c-48c9-4df4-918d-62d33217ac14",
   "metadata": {},
   "outputs": [],
   "source": [
    "# Q12. For a normal distribution data what is the relationship between its measure of central tendency?\n",
    "# Ans  2For a normal distribution data, the measures of central tendency are related in the following way:\n",
    "# Mean: The mean is the most common measure of central tendency for normally distributed data. \n",
    "# In a normal distribution, the mean is located at the center of the distribution, and the distribution is symmetric around it.\n",
    "# Median: The median is also located at the center of the distribution for a normal distribution, and it is equal to the mean. \n",
    "# This is because the normal distribution is symmetric around the mean, and half of the data falls on either side of the mean.\n",
    "# Mode: The mode is located at the peak of the distribution, and for a normal distribution, it is also located at the center of the distribution.\n",
    "# The mode is not always equal to the mean or median in a normal distribution, but they are close to each other in most cases.\n",
    "# In summary, for a normal distribution, the mean, median, and mode are all located at the center of the distribution, \n",
    "# and the mean and median are equal to each other."
   ]
  },
  {
   "cell_type": "code",
   "execution_count": null,
   "id": "377d9988-8594-4071-a23a-0029afa963c0",
   "metadata": {},
   "outputs": [],
   "source": [
    "# Q13. How is covariance different from correlation?\n",
    "#Ans 13= Covariance and correlation are both measures of the relationship between two variables, but they differ in some key ways:\n",
    "# Definition: Covariance is a measure of how two variables vary together, while correlation measures the strength and direction of \n",
    "# the linear relationship between two variables.\n",
    "# Range of values: Covariance can take on any value between negative infinity and positive infinity, whereas correlation can only \n",
    "# take on values between -1 and 1.\n",
    "# Interpretation: The sign of the covariance indicates the direction of the relationship between the two variables. \n",
    "# A positive covariance indicates that the variables tend to move together, while a negative covariance indicates that they tend to move in\n",
    "# opposite directions. However, the magnitude of the covariance does not provide information about the strength of the relationship.\n",
    "# Correlation, on the other hand, not only indicates the direction of the relationship but also its strength. A correlation coefficient of -1 or 1 \n",
    "# indicates a perfect linear relationship, while a coefficient of 0 indicates no linear relationship.\n",
    "# Standardization: Covariance is not standardized, meaning its value depends on the units of the variables being measured. Correlation,\n",
    "# on the other hand, is standardized, meaning its value is independent of the units of measurement.\n",
    "# In summary, covariance measures how two variables vary together, while correlation measures the strength and direction of the linear relationship\n",
    "# between two variables, making it a more useful measure of association between variables than covariance."
   ]
  },
  {
   "cell_type": "code",
   "execution_count": 6,
   "id": "d225245b-6028-4084-82fd-6ad0d6dfb966",
   "metadata": {},
   "outputs": [
    {
     "name": "stdout",
     "output_type": "stream",
     "text": [
      "mean 60.0 and the median is 30.0\n"
     ]
    }
   ],
   "source": [
    "# Q14. How do outliers affect measures of central tendency and dispersion? Provide an example.\n",
    "# Ans 4 = Outliers is the diffence from the other data point in the dataset and the helpling middle no to the dataset we use median .\n",
    "x=[10,20,30,40,200]\n",
    "\n",
    "print(f\"mean {np.mean(x)} and the median is {np.median(x)}\")"
   ]
  },
  {
   "cell_type": "code",
   "execution_count": null,
   "id": "2a08eb35-1e0b-43d6-9d63-4114e3d1d263",
   "metadata": {},
   "outputs": [],
   "source": []
  },
  {
   "cell_type": "code",
   "execution_count": null,
   "id": "5e1e8636-5cce-433c-b6a5-1fcdf54dd002",
   "metadata": {},
   "outputs": [],
   "source": []
  },
  {
   "cell_type": "code",
   "execution_count": null,
   "id": "b69452e8-e331-4229-88ef-4870b6e26a1c",
   "metadata": {},
   "outputs": [],
   "source": []
  },
  {
   "cell_type": "code",
   "execution_count": null,
   "id": "2beee53d-6d9d-40f1-b4f2-63932b9ed077",
   "metadata": {},
   "outputs": [],
   "source": []
  },
  {
   "cell_type": "code",
   "execution_count": null,
   "id": "b23e435f-c738-4898-bab7-642019518e47",
   "metadata": {},
   "outputs": [],
   "source": []
  },
  {
   "cell_type": "code",
   "execution_count": null,
   "id": "7d5edbc3-472f-44b7-ad9f-f8cf835cfede",
   "metadata": {},
   "outputs": [],
   "source": []
  },
  {
   "cell_type": "code",
   "execution_count": null,
   "id": "54c9d137-ef13-4b6c-8b37-31bf06ef1dbe",
   "metadata": {},
   "outputs": [],
   "source": []
  }
 ],
 "metadata": {
  "kernelspec": {
   "display_name": "Python 3 (ipykernel)",
   "language": "python",
   "name": "python3"
  },
  "language_info": {
   "codemirror_mode": {
    "name": "ipython",
    "version": 3
   },
   "file_extension": ".py",
   "mimetype": "text/x-python",
   "name": "python",
   "nbconvert_exporter": "python",
   "pygments_lexer": "ipython3",
   "version": "3.10.6"
  }
 },
 "nbformat": 4,
 "nbformat_minor": 5
}
